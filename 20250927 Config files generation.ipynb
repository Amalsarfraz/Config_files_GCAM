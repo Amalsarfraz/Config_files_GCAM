{
 "cells": [
  {
   "cell_type": "markdown",
   "id": "8995b30a-d341-48af-8f4e-e4b8ca90617c",
   "metadata": {},
   "source": [
    "## Install required packages\n"
   ]
  },
  {
   "cell_type": "code",
   "execution_count": 1,
   "id": "46771d71-4c66-49e5-94b8-554e4a4bcb15",
   "metadata": {},
   "outputs": [],
   "source": [
    "# Complete imports - run this cell first\n",
    "import os\n",
    "import copy\n",
    "import time\n",
    "import logging\n",
    "import itertools\n",
    "import xml.etree.ElementTree as ET\n",
    "from dataclasses import dataclass, field\n",
    "from functools import lru_cache\n",
    "from pathlib import Path\n",
    "from typing import List, Tuple, Optional, Iterator\n",
    "from concurrent.futures import ThreadPoolExecutor, as_completed\n",
    "\n",
    "# Import your functions\n",
    "from functions_def import GCAMConfigurationGenerator, ScenarioParameters, run_full_generation\n",
    "\n",
    "# Configure logging\n",
    "logging.basicConfig(level=logging.INFO, format='%(levelname)s: %(message)s')\n",
    "logger = logging.getLogger(__name__)"
   ]
  },
  {
   "cell_type": "markdown",
   "id": "ea7013fd-9d7a-4d4c-875a-f4b9757adee3",
   "metadata": {},
   "source": [
    "## Defining test subset"
   ]
  },
  {
   "cell_type": "code",
   "execution_count": 2,
   "id": "f3118be6-c8d4-4b32-829e-6073439d91ca",
   "metadata": {},
   "outputs": [],
   "source": [
    "def run_test_subset():\n",
    "    \"\"\"Run with a smaller subset for testing.\"\"\"\n",
    "    \n",
    "    # Test with reduced parameter set\n",
    "    test_params = ScenarioParameters(\n",
    "        ssps=[\"SSP4\"],                        # Just SSP5 for testing\n",
    "        rcps=[\"6p0\"],                         # Just one RCP for testing\n",
    "        pr_adoption_rates=[0, 100],           # Just PR=0 and PR=100 for testing\n",
    "        technology_levels=[\"Basic\"],          # Just 1 tech level for testing\n",
    "        supply_capacities=[\"Medium\"],         # Just 1 supply level for testing\n",
    "        allocation_regulations=[\"Market-driven\"]  # Just 1 allocation type for testing\n",
    "    )\n",
    "    \n",
    "    config_generator = GCAMConfigurationGenerator(\n",
    "        parameters=test_params,\n",
    "        ssp_files_directory=\"./\"  # Current directory\n",
    "    )\n",
    "    \n",
    "    print(f\"\\nTest run: Generating {test_params.total_scenarios()} configurations...\")\n",
    "    \n",
    "    generated_files = config_generator.generate_all_configs(\n",
    "        output_directory=\"config_sample_subset\",\n",
    "        use_concurrency=False\n",
    "    )\n",
    "    \n",
    "    print(f\"Test completed: {len(generated_files)} files generated\")\n",
    "    return generated_files"
   ]
  },
  {
   "cell_type": "code",
   "execution_count": 3,
   "id": "309b4109-c126-4709-861e-1fa082ee7aa4",
   "metadata": {},
   "outputs": [],
   "source": [
    "def main():\n",
    "    \"\"\"\n",
    "    Main execution function.\n",
    "    Choose which function to run by uncommenting the desired line.\n",
    "    \"\"\"\n",
    "    try:\n",
    "        # For testing and debugging (recommended first):\n",
    "        print(\"Running test subset...\")\n",
    "        generated_files = run_test_subset()\n",
    "        \n",
    "        # For full configuration generation (uncomment when ready):\n",
    "        # print(\"Running full generation...\")\n",
    "        # generated_files = run_full_generation()\n",
    "        \n",
    "        return generated_files\n",
    "        \n",
    "    except KeyboardInterrupt:\n",
    "        logger.info(\"Generation interrupted by user\")\n",
    "    except Exception as e:\n",
    "        logger.error(f\"Fatal error: {e}\")\n",
    "        raise"
   ]
  },
  {
   "cell_type": "markdown",
   "id": "322c5b8b-7f40-44b3-a109-98ea5a31d6fc",
   "metadata": {},
   "source": [
    "## Generating subset or complete ensemble"
   ]
  },
  {
   "cell_type": "code",
   "execution_count": 4,
   "id": "d81ec028-768a-4c09-8de7-48f536057772",
   "metadata": {},
   "outputs": [
    {
     "name": "stderr",
     "output_type": "stream",
     "text": [
      "INFO: Successfully loaded base template: configuration_reuse100.xml\n",
      "INFO: Generating 2 scenario configurations...\n",
      "INFO: Extracted 24 components from SSP4\n",
      "INFO: Added 24 SSP components\n",
      "INFO: Generated (1/2): SSP4_6p0_Basic_M_Mkt_PR0.xml\n",
      "INFO: Added 24 SSP components\n",
      "INFO: Generated (2/2): SSP4_6p0_Basic_M_Mkt_PR100.xml\n"
     ]
    },
    {
     "name": "stdout",
     "output_type": "stream",
     "text": [
      "Running test subset...\n",
      "\n",
      "Test run: Generating 2 configurations...\n",
      "Test completed: 2 files generated\n"
     ]
    }
   ],
   "source": [
    "if __name__ == \"__main__\":\n",
    "    main()"
   ]
  },
  {
   "cell_type": "code",
   "execution_count": null,
   "id": "4b68804b-618a-4453-a960-cd5de8604487",
   "metadata": {},
   "outputs": [],
   "source": []
  }
 ],
 "metadata": {
  "kernelspec": {
   "display_name": "Python 3 (ipykernel)",
   "language": "python",
   "name": "python3"
  },
  "language_info": {
   "codemirror_mode": {
    "name": "ipython",
    "version": 3
   },
   "file_extension": ".py",
   "mimetype": "text/x-python",
   "name": "python",
   "nbconvert_exporter": "python",
   "pygments_lexer": "ipython3",
   "version": "3.8.18"
  }
 },
 "nbformat": 4,
 "nbformat_minor": 5
}
